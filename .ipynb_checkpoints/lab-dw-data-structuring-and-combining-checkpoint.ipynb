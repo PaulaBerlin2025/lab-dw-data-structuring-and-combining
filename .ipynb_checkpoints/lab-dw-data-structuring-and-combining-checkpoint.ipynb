{
 "cells": [
  {
   "cell_type": "markdown",
   "id": "25d7736c-ba17-4aff-b6bb-66eba20fbf4e",
   "metadata": {
    "id": "25d7736c-ba17-4aff-b6bb-66eba20fbf4e"
   },
   "source": [
    "# Lab | Data Structuring and Combining Data"
   ]
  },
  {
   "cell_type": "markdown",
   "id": "a2cdfc70-44c8-478c-81e7-2bc43fdf4986",
   "metadata": {
    "id": "a2cdfc70-44c8-478c-81e7-2bc43fdf4986"
   },
   "source": [
    "## Challenge 1: Combining & Cleaning Data\n",
    "\n",
    "In this challenge, we will be working with the customer data from an insurance company, as we did in the two previous labs. The data can be found here:\n",
    "- https://raw.githubusercontent.com/data-bootcamp-v4/data/main/file1.csv\n",
    "\n",
    "But this time, we got new data, which can be found in the following 2 CSV files located at the links below.\n",
    "\n",
    "- https://raw.githubusercontent.com/data-bootcamp-v4/data/main/file2.csv\n",
    "- https://raw.githubusercontent.com/data-bootcamp-v4/data/main/file3.csv\n",
    "\n",
    "Note that you'll need to clean and format the new data.\n",
    "\n",
    "Observation:\n",
    "- One option is to first combine the three datasets and then apply the cleaning function to the new combined dataset\n",
    "- Another option would be to read the clean file you saved in the previous lab, and just clean the two new files and concatenate the three clean datasets"
   ]
  },
  {
   "cell_type": "code",
   "execution_count": 4,
   "id": "492d06e3-92c7-4105-ac72-536db98d3244",
   "metadata": {
    "id": "492d06e3-92c7-4105-ac72-536db98d3244"
   },
   "outputs": [],
   "source": [
    "import pandas as pd"
   ]
  },
  {
   "cell_type": "code",
   "execution_count": 10,
   "id": "d6843a0c-c0e6-4199-afb9-3fdc542db005",
   "metadata": {},
   "outputs": [],
   "source": [
    "#1\n",
    "# I load the data sets\n",
    "df1 = pd.read_csv(\"https://raw.githubusercontent.com/data-bootcamp-v4/data/main/file1.csv\")\n",
    "df2 = pd.read_csv(\"https://raw.githubusercontent.com/data-bootcamp-v4/data/main/file2.csv\")\n",
    "df3 = pd.read_csv(\"https://raw.githubusercontent.com/data-bootcamp-v4/data/main/file3.csv\")"
   ]
  },
  {
   "cell_type": "code",
   "execution_count": 24,
   "id": "56c78aec-c62a-4297-87ab-d02c1dc39964",
   "metadata": {},
   "outputs": [],
   "source": [
    "# I combine the data sets\n",
    "combined_df = pd.concat([df1, df2, df3], axis=0)"
   ]
  },
  {
   "cell_type": "code",
   "execution_count": 36,
   "id": "82026384-cad1-49ff-91e0-3a1d9d70a60d",
   "metadata": {},
   "outputs": [],
   "source": [
    "# Data cleaning\n",
    "combined_df = combined_df.drop_duplicates(keep='first')\n",
    "\n"
   ]
  },
  {
   "cell_type": "code",
   "execution_count": 42,
   "id": "20bc7f3e-db65-4949-8236-2ffcdc48ffec",
   "metadata": {},
   "outputs": [],
   "source": [
    "combined_df.columns = combined_df.columns.str.lower()\n",
    "combined_df.columns = combined_df.columns.str.replace(' ', '_').str.lower()\n",
    "combined_df.columns = combined_df.columns.str.replace(r'^\\bst\\b$', 'state', regex=True)"
   ]
  },
  {
   "cell_type": "code",
   "execution_count": 44,
   "id": "14e22ab8-66b7-4d76-9d36-a5b84071a1ae",
   "metadata": {},
   "outputs": [],
   "source": [
    "combined_df['gender'] = combined_df['gender'].replace({\n",
    "    'Femal': 'F', \n",
    "    'Female': 'F', \n",
    "    'female': 'F',\n",
    "    'Male': 'M',\n",
    "    'M': 'M'\n",
    "})"
   ]
  },
  {
   "cell_type": "code",
   "execution_count": 58,
   "id": "a4acaa0f-1bf3-48d2-8cd3-8561434585c0",
   "metadata": {},
   "outputs": [],
   "source": [
    "combined_df['education'] = combined_df['education'].replace('Bachelors', 'Bachelor')"
   ]
  },
  {
   "cell_type": "code",
   "execution_count": 60,
   "id": "f61c76d8-39bc-4da3-b60a-8d16ddeb1503",
   "metadata": {},
   "outputs": [],
   "source": [
    "combined_df['customer_lifetime_value'] = combined_df['customer_lifetime_value'].str.replace('%', '').astype(float)"
   ]
  },
  {
   "cell_type": "code",
   "execution_count": 62,
   "id": "34808263-2f20-4b95-a9ef-50b2d22fc1c5",
   "metadata": {},
   "outputs": [],
   "source": [
    "combined_df['vehicle_class'] = combined_df['vehicle_class'].replace({\n",
    "    'Sports Car': 'Luxury',\n",
    "    'Luxury SUV': 'Luxury',\n",
    "    'Luxury Car': 'Luxury'\n",
    "})"
   ]
  },
  {
   "cell_type": "code",
   "execution_count": null,
   "id": "703c529f-5160-43b8-b71c-1a8a9e821a0a",
   "metadata": {},
   "outputs": [],
   "source": [
    "combined_df['customer_lifetime_value'] = combined_df['customer_lifetime_value'].astype(str).str.replace('%', '').astype(float)\n",
    "combined_df['number_of_open_complaints'] = combined_df['number_of_open_complaints'].astype(str)\n",
    "combined_df['number_of_open_complaints'] = combined_df['number_of_open_complaints'].apply(lambda x: int(x.split('/')[1]) if '/' in x else 0)\n",
    "combined_df['number_of_open_complaints'] = combined_df['number_of_open_complaints'].astype(int)"
   ]
  },
  {
   "cell_type": "code",
   "execution_count": 70,
   "id": "5900fde7-7491-4867-9b46-45cdf89b9e7b",
   "metadata": {},
   "outputs": [],
   "source": [
    "combined_df['gender'] = combined_df['gender'].fillna('Unknown') \n",
    "combined_df['state'] = combined_df['state'].fillna('Unknown') \n",
    "combined_df['customer'] = combined_df['customer'].fillna('Unknown') \n",
    "combined_df['education'] = combined_df['education'].fillna('Unknown')  \n",
    "combined_df['policy_type'] = combined_df['policy_type'].fillna('Unknown')  \n",
    "combined_df['vehicle_class'] = combined_df['vehicle_class'].fillna('Unknown')"
   ]
  },
  {
   "cell_type": "code",
   "execution_count": 78,
   "id": "6363f121-346f-4e32-994a-56229ce9618b",
   "metadata": {},
   "outputs": [],
   "source": [
    "combined_df['customer_lifetime_value'] = combined_df['customer_lifetime_value'].fillna(combined_df['customer_lifetime_value'].median())  \n",
    "combined_df['income'] = combined_df['income'].fillna(combined_df['income'].median())  \n",
    "combined_df['monthly_premium_auto'] = combined_df['monthly_premium_auto'].fillna(combined_df['monthly_premium_auto'].median()) \n",
    "combined_df['number_of_open_complaints'] = combined_df['number_of_open_complaints'].fillna(combined_df['number_of_open_complaints'].median()) \n",
    "combined_df['total_claim_amount'] = combined_df['total_claim_amount'].fillna(combined_df['total_claim_amount'].median()) "
   ]
  },
  {
   "cell_type": "code",
   "execution_count": 82,
   "id": "d0ca9a71-b4ed-4151-9bf2-f3438aad51be",
   "metadata": {},
   "outputs": [],
   "source": [
    "combined_df['monthly_premium_auto'] = combined_df['monthly_premium_auto'].astype(int)\n",
    "combined_df['income'] = combined_df['income'].astype(int)"
   ]
  },
  {
   "cell_type": "code",
   "execution_count": 88,
   "id": "489caadb-5f81-4661-9f6c-c01287a704e2",
   "metadata": {},
   "outputs": [],
   "source": [
    "combined_df['total_claim_amount'] = combined_df['total_claim_amount'].round(2)"
   ]
  },
  {
   "cell_type": "code",
   "execution_count": 90,
   "id": "9355c849-fc55-4137-8d79-d1b6a4751e1e",
   "metadata": {},
   "outputs": [
    {
     "name": "stdout",
     "output_type": "stream",
     "text": [
      "  customer       state   gender             education  \\\n",
      "0  RB50392  Washington  Unknown                Master   \n",
      "1  QZ44356     Arizona        F              Bachelor   \n",
      "2  AI49188      Nevada        F              Bachelor   \n",
      "3  WW63253  California        M              Bachelor   \n",
      "4  GA49547  Washington        M  High School or Below   \n",
      "\n",
      "   customer_lifetime_value  income  monthly_premium_auto  \\\n",
      "0                572076.51       0                  1000   \n",
      "1                697953.59       0                    94   \n",
      "2               1288743.17   48767                   108   \n",
      "3                764586.18       0                   106   \n",
      "4                536307.65   36357                    68   \n",
      "\n",
      "   number_of_open_complaints     policy_type  vehicle_class  \\\n",
      "0                          0   Personal Auto  Four-Door Car   \n",
      "1                          0   Personal Auto  Four-Door Car   \n",
      "2                          0   Personal Auto   Two-Door Car   \n",
      "3                          0  Corporate Auto            SUV   \n",
      "4                          0   Personal Auto  Four-Door Car   \n",
      "\n",
      "   total_claim_amount    state   gender  \n",
      "0                2.70  Unknown  Unknown  \n",
      "1             1131.46  Unknown  Unknown  \n",
      "2              566.47  Unknown  Unknown  \n",
      "3              529.88  Unknown  Unknown  \n",
      "4               17.27  Unknown  Unknown  \n"
     ]
    }
   ],
   "source": [
    "print(combined_df.head())"
   ]
  },
  {
   "cell_type": "markdown",
   "id": "31b8a9e7-7db9-4604-991b-ef6771603e57",
   "metadata": {
    "id": "31b8a9e7-7db9-4604-991b-ef6771603e57"
   },
   "source": [
    "# Challenge 2: Structuring Data"
   ]
  },
  {
   "cell_type": "markdown",
   "id": "a877fd6d-7a0c-46d2-9657-f25036e4ca4b",
   "metadata": {
    "id": "a877fd6d-7a0c-46d2-9657-f25036e4ca4b"
   },
   "source": [
    "In this challenge, we will continue to work with customer data from an insurance company, but we will use a dataset with more columns, called marketing_customer_analysis.csv, which can be found at the following link:\n",
    "\n",
    "https://raw.githubusercontent.com/data-bootcamp-v4/data/main/marketing_customer_analysis_clean.csv\n",
    "\n",
    "This dataset contains information such as customer demographics, policy details, vehicle information, and the customer's response to the last marketing campaign. Our goal is to explore and analyze this data by performing data cleaning, formatting, and structuring."
   ]
  },
  {
   "cell_type": "code",
   "execution_count": 102,
   "id": "aa10d9b0-1c27-4d3f-a8e4-db6ab73bfd26",
   "metadata": {
    "id": "aa10d9b0-1c27-4d3f-a8e4-db6ab73bfd26"
   },
   "outputs": [],
   "source": [
    "# 2\n",
    "df_marketing = pd.read_csv(\"https://raw.githubusercontent.com/data-bootcamp-v4/data/main/marketing_customer_analysis_clean.csv\")"
   ]
  },
  {
   "cell_type": "code",
   "execution_count": 104,
   "id": "b0886f04-11a9-4e9d-bc3e-bfbc44477ba4",
   "metadata": {},
   "outputs": [
    {
     "name": "stdout",
     "output_type": "stream",
     "text": [
      "<class 'pandas.core.frame.DataFrame'>\n",
      "RangeIndex: 10910 entries, 0 to 10909\n",
      "Data columns (total 27 columns):\n",
      " #   Column                         Non-Null Count  Dtype  \n",
      "---  ------                         --------------  -----  \n",
      " 0   unnamed:_0                     10910 non-null  int64  \n",
      " 1   customer                       10910 non-null  object \n",
      " 2   state                          10910 non-null  object \n",
      " 3   customer_lifetime_value        10910 non-null  float64\n",
      " 4   response                       10910 non-null  object \n",
      " 5   coverage                       10910 non-null  object \n",
      " 6   education                      10910 non-null  object \n",
      " 7   effective_to_date              10910 non-null  object \n",
      " 8   employmentstatus               10910 non-null  object \n",
      " 9   gender                         10910 non-null  object \n",
      " 10  income                         10910 non-null  int64  \n",
      " 11  location_code                  10910 non-null  object \n",
      " 12  marital_status                 10910 non-null  object \n",
      " 13  monthly_premium_auto           10910 non-null  int64  \n",
      " 14  months_since_last_claim        10910 non-null  float64\n",
      " 15  months_since_policy_inception  10910 non-null  int64  \n",
      " 16  number_of_open_complaints      10910 non-null  float64\n",
      " 17  number_of_policies             10910 non-null  int64  \n",
      " 18  policy_type                    10910 non-null  object \n",
      " 19  policy                         10910 non-null  object \n",
      " 20  renew_offer_type               10910 non-null  object \n",
      " 21  sales_channel                  10910 non-null  object \n",
      " 22  total_claim_amount             10910 non-null  float64\n",
      " 23  vehicle_class                  10910 non-null  object \n",
      " 24  vehicle_size                   10910 non-null  object \n",
      " 25  vehicle_type                   10910 non-null  object \n",
      " 26  month                          10910 non-null  int64  \n",
      "dtypes: float64(4), int64(6), object(17)\n",
      "memory usage: 2.2+ MB\n"
     ]
    }
   ],
   "source": [
    "df_marketing.info()"
   ]
  },
  {
   "cell_type": "code",
   "execution_count": 122,
   "id": "64376ac3-c845-4c19-9a2e-711d0dcf8dab",
   "metadata": {},
   "outputs": [
    {
     "name": "stdout",
     "output_type": "stream",
     "text": [
      "   unnamed:_0 customer       state  customer_lifetime_value response  \\\n",
      "0           0  DK49336     Arizona              4809.216960       No   \n",
      "1           1  KX64629  California              2228.525238       No   \n",
      "2           2  LZ68649  Washington             14947.917300       No   \n",
      "3           3  XL78013      Oregon             22332.439460      Yes   \n",
      "4           4  QA50777      Oregon              9025.067525       No   \n",
      "\n",
      "   coverage education effective_to_date employmentstatus gender  ...  \\\n",
      "0     Basic   College        2011-02-18         Employed      M  ...   \n",
      "1     Basic   College        2011-01-18       Unemployed      F  ...   \n",
      "2     Basic  Bachelor        2011-02-10         Employed      M  ...   \n",
      "3  Extended   College        2011-01-11         Employed      M  ...   \n",
      "4   Premium  Bachelor        2011-01-17    Medical Leave      F  ...   \n",
      "\n",
      "   number_of_policies     policy_type        policy  renew_offer_type  \\\n",
      "0                   9  Corporate Auto  Corporate L3            Offer3   \n",
      "1                   1   Personal Auto   Personal L3            Offer4   \n",
      "2                   2   Personal Auto   Personal L3            Offer3   \n",
      "3                   2  Corporate Auto  Corporate L3            Offer2   \n",
      "4                   7   Personal Auto   Personal L2            Offer1   \n",
      "\n",
      "   sales_channel  total_claim_amount  vehicle_class  vehicle_size  \\\n",
      "0          Agent          292.800000  Four-Door Car       Medsize   \n",
      "1    Call Center          744.924331  Four-Door Car       Medsize   \n",
      "2    Call Center          480.000000            SUV       Medsize   \n",
      "3         Branch          484.013411  Four-Door Car       Medsize   \n",
      "4         Branch          707.925645  Four-Door Car       Medsize   \n",
      "\n",
      "  vehicle_type month  \n",
      "0            A     2  \n",
      "1            A     1  \n",
      "2            A     2  \n",
      "3            A     1  \n",
      "4            A     1  \n",
      "\n",
      "[5 rows x 27 columns]\n"
     ]
    }
   ],
   "source": [
    "print(df_marketing.head())"
   ]
  },
  {
   "cell_type": "code",
   "execution_count": 120,
   "id": "8fc338b6-c0b2-495b-8a96-148a2cee7c88",
   "metadata": {},
   "outputs": [],
   "source": [
    "df_marketing = df_marketing.dropna()\n",
    "df_marketing = df_marketing.drop_duplicates()"
   ]
  },
  {
   "cell_type": "code",
   "execution_count": 132,
   "id": "5cf413e9-6454-476c-8e88-73bea099e3d8",
   "metadata": {},
   "outputs": [
    {
     "name": "stdout",
     "output_type": "stream",
     "text": [
      "               total_revenue\n",
      "sales_channel               \n",
      "Agent             1810226.82\n",
      "Branch            1301204.00\n",
      "Call Center        926600.82\n",
      "Web                706600.04\n"
     ]
    }
   ],
   "source": [
    "#2.1\n",
    "pivot_table = pd.pivot_table(df_marketing, values='total_claim_amount', \n",
    "                             index='sales_channel', \n",
    "                             aggfunc='sum')\n",
    "pivot_table['total_revenue'] = pivot_table['total_claim_amount'].round(2)\n",
    "print(pivot_table[['total_revenue']])"
   ]
  },
  {
   "cell_type": "code",
   "execution_count": null,
   "id": "fdcf32cf-0721-4f2b-a807-b2f9670b432d",
   "metadata": {},
   "outputs": [],
   "source": [
    "# Agent Channel appears to have the highest total revenue, followed by branch sales.\n"
   ]
  },
  {
   "cell_type": "code",
   "execution_count": 146,
   "id": "b98ef016-926e-43d5-bbf1-ca23bd307493",
   "metadata": {},
   "outputs": [
    {
     "name": "stdout",
     "output_type": "stream",
     "text": [
      "                             customer_lifetime_value\n",
      "gender education                                    \n",
      "F      Bachelor                              7874.27\n",
      "       College                               7748.82\n",
      "       Doctor                                7328.51\n",
      "       High School or Below                  8675.22\n",
      "       Master                                8157.05\n",
      "M      Bachelor                              7703.60\n",
      "       College                               8052.46\n",
      "       Doctor                                7415.33\n",
      "       High School or Below                  8149.69\n",
      "       Master                                8168.83\n"
     ]
    }
   ],
   "source": [
    "#2.2\n",
    "pivot_table = pd.pivot_table(df_marketing, values='customer_lifetime_value', \n",
    "                             index=['gender', 'education'], \n",
    "                             aggfunc='mean')\n",
    "pivot_table['customer_lifetime_value'] = pivot_table['customer_lifetime_value'].round(2)\n",
    "print(pivot_table)"
   ]
  },
  {
   "cell_type": "code",
   "execution_count": null,
   "id": "ad877996-9675-40ec-94ee-918db359a3af",
   "metadata": {},
   "outputs": [],
   "source": [
    "#Customers with a Masters and High School degree tend to have the highest average customer lifetime value, both for males and females.\n",
    "#Overall, the gender differences in average CLV are not as pronounced as the impact of education."
   ]
  },
  {
   "cell_type": "markdown",
   "id": "df35fd0d-513e-4e77-867e-429da10a9cc7",
   "metadata": {
    "id": "df35fd0d-513e-4e77-867e-429da10a9cc7"
   },
   "source": [
    "1. You work at the marketing department and you want to know which sales channel brought the most sales in terms of total revenue. Using pivot, create a summary table showing the total revenue for each sales channel (branch, call center, web, and mail).\n",
    "Round the total revenue to 2 decimal points.  Analyze the resulting table to draw insights."
   ]
  },
  {
   "cell_type": "markdown",
   "id": "640993b2-a291-436c-a34d-a551144f8196",
   "metadata": {
    "id": "640993b2-a291-436c-a34d-a551144f8196"
   },
   "source": [
    "2. Create a pivot table that shows the average customer lifetime value per gender and education level. Analyze the resulting table to draw insights."
   ]
  },
  {
   "cell_type": "markdown",
   "id": "32c7f2e5-3d90-43e5-be33-9781b6069198",
   "metadata": {
    "id": "32c7f2e5-3d90-43e5-be33-9781b6069198"
   },
   "source": [
    "## Bonus\n",
    "\n",
    "You work at the customer service department and you want to know which months had the highest number of complaints by policy type category. Create a summary table showing the number of complaints by policy type and month.\n",
    "Show it in a long format table."
   ]
  },
  {
   "cell_type": "markdown",
   "id": "e3d09a8f-953c-448a-a5f8-2e5a8cca7291",
   "metadata": {
    "id": "e3d09a8f-953c-448a-a5f8-2e5a8cca7291"
   },
   "source": [
    "*In data analysis, a long format table is a way of structuring data in which each observation or measurement is stored in a separate row of the table. The key characteristic of a long format table is that each column represents a single variable, and each row represents a single observation of that variable.*\n",
    "\n",
    "*More information about long and wide format tables here: https://www.statology.org/long-vs-wide-data/*"
   ]
  },
  {
   "cell_type": "code",
   "execution_count": null,
   "id": "3a069e0b-b400-470e-904d-d17582191be4",
   "metadata": {
    "id": "3a069e0b-b400-470e-904d-d17582191be4"
   },
   "outputs": [],
   "source": [
    "# Your code goes here"
   ]
  }
 ],
 "metadata": {
  "colab": {
   "provenance": []
  },
  "kernelspec": {
   "display_name": "Python [conda env:base] *",
   "language": "python",
   "name": "conda-base-py"
  },
  "language_info": {
   "codemirror_mode": {
    "name": "ipython",
    "version": 3
   },
   "file_extension": ".py",
   "mimetype": "text/x-python",
   "name": "python",
   "nbconvert_exporter": "python",
   "pygments_lexer": "ipython3",
   "version": "3.12.7"
  }
 },
 "nbformat": 4,
 "nbformat_minor": 5
}
